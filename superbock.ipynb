{
 "cells": [
  {
   "cell_type": "markdown",
   "metadata": {},
   "source": [
    "# Importing Libraries"
   ]
  },
  {
   "cell_type": "code",
   "execution_count": 13,
   "metadata": {},
   "outputs": [
    {
     "ename": "ImportError",
     "evalue": "No module named 'seaborn'",
     "output_type": "error",
     "traceback": [
      "\u001b[0;31m---------------------------------------------------------------------------\u001b[0m",
      "\u001b[0;31mImportError\u001b[0m                               Traceback (most recent call last)",
      "\u001b[0;32m<ipython-input-13-381ea946c678>\u001b[0m in \u001b[0;36m<module>\u001b[0;34m\u001b[0m\n\u001b[1;32m      3\u001b[0m \u001b[0;32mimport\u001b[0m \u001b[0mtensorflow\u001b[0m \u001b[0;32mas\u001b[0m \u001b[0mtf\u001b[0m\u001b[0;34m\u001b[0m\u001b[0m\n\u001b[1;32m      4\u001b[0m \u001b[0;32mimport\u001b[0m \u001b[0mmatplotlib\u001b[0m\u001b[0;34m.\u001b[0m\u001b[0mpyplot\u001b[0m \u001b[0;32mas\u001b[0m \u001b[0mplt\u001b[0m\u001b[0;34m\u001b[0m\u001b[0m\n\u001b[0;32m----> 5\u001b[0;31m \u001b[0;32mimport\u001b[0m \u001b[0mseaborn\u001b[0m \u001b[0;32mas\u001b[0m \u001b[0msns\u001b[0m\u001b[0;34m\u001b[0m\u001b[0m\n\u001b[0m\u001b[1;32m      6\u001b[0m \u001b[0;34m\u001b[0m\u001b[0m\n\u001b[1;32m      7\u001b[0m \u001b[0;32mimport\u001b[0m \u001b[0msklearn\u001b[0m\u001b[0;34m\u001b[0m\u001b[0m\n",
      "\u001b[0;31mImportError\u001b[0m: No module named 'seaborn'"
     ]
    }
   ],
   "source": [
    "import numpy as np\n",
    "import pandas as pd\n",
    "import tensorflow as tf\n",
    "import matplotlib.pyplot as plt\n",
    "import seaborn as sns\n",
    "\n",
    "import sklearn\n",
    "%matplotlib inline"
   ]
  },
  {
   "cell_type": "markdown",
   "metadata": {},
   "source": [
    "# Importing Dataset"
   ]
  },
  {
   "cell_type": "code",
   "execution_count": 3,
   "metadata": {},
   "outputs": [
    {
     "data": {
      "text/plain": [
       "Index(['CONDIGO_PRODUTO', 'OEE', 'SOMA_GEA', 'TEMPO_DEGRADADO',\n",
       "       'TRABALHO_REAL_ELETRICISTA', 'TRABALHO_REAL_MECANICO',\n",
       "       'TRABALHO_REAL_PREVENTIVA', 'OUTROS_TEMPOS_PARAGEM', 'TEMPO_ARRANQUE',\n",
       "       ' TEMPO_EMBALAGEM_IMPROPRIA', 'TEMPO_TESTES', 'TEMPO_FALHA_LOGISTICA',\n",
       "       ' TEMPO_LIMPEZA', ' TMP_TAM', ' TEMPO_ALMOCO', ' L1_TAV', 'L2_TAV',\n",
       "       'L3_TAV', 'L4_TAV', 'L5_TAV', 'L6_TAV', 'L7_TAV', 'TAV_BANDEADORA',\n",
       "       ' TAV_CINTADORA', ' TAV_DESENGRADORA', ' TAV_DESPALETIZADORA',\n",
       "       ' TAV_EMBALADORA', ' TAV_ENCARTONADORA', 'TAV_ENGRADADORA',\n",
       "       ' TAV_ENVOLVEDORA', ' TAV_INSPETOR_CHEIO', ' TAV_INSPETOR_VAZIO',\n",
       "       ' TAV_LAVADORA', ' TAV_PALETIZADORA', ' TAV_PASTEURIZADOR',\n",
       "       ' TAV_ROTULADORA', ' TAV_SOPRADORA', ' TAV_TRANSPORTADORES'],\n",
       "      dtype='object')"
      ]
     },
     "execution_count": 3,
     "metadata": {},
     "output_type": "execute_result"
    }
   ],
   "source": [
    "df = pd.read_csv(\"base_superbock_1.csv\", index_col=False)\n",
    "df.columns"
   ]
  },
  {
   "cell_type": "code",
   "execution_count": 4,
   "metadata": {},
   "outputs": [
    {
     "data": {
      "text/plain": [
       "CONDIGO_PRODUTO                 int64\n",
       "OEE                           float64\n",
       "SOMA_GEA                        int64\n",
       "TEMPO_DEGRADADO               float64\n",
       "TRABALHO_REAL_ELETRICISTA     float64\n",
       "TRABALHO_REAL_MECANICO        float64\n",
       "TRABALHO_REAL_PREVENTIVA        int64\n",
       "OUTROS_TEMPOS_PARAGEM         float64\n",
       "TEMPO_ARRANQUE                float64\n",
       " TEMPO_EMBALAGEM_IMPROPRIA    float64\n",
       "TEMPO_TESTES                  float64\n",
       "TEMPO_FALHA_LOGISTICA         float64\n",
       " TEMPO_LIMPEZA                float64\n",
       " TMP_TAM                      float64\n",
       " TEMPO_ALMOCO                 float64\n",
       " L1_TAV                         int64\n",
       "L2_TAV                          int64\n",
       "L3_TAV                          int64\n",
       "L4_TAV                          int64\n",
       "L5_TAV                          int64\n",
       "L6_TAV                        float64\n",
       "L7_TAV                          int64\n",
       "TAV_BANDEADORA                  int64\n",
       " TAV_CINTADORA                  int64\n",
       " TAV_DESENGRADORA               int64\n",
       " TAV_DESPALETIZADORA            int64\n",
       " TAV_EMBALADORA               float64\n",
       " TAV_ENCARTONADORA            float64\n",
       "TAV_ENGRADADORA               float64\n",
       " TAV_ENVOLVEDORA                int64\n",
       " TAV_INSPETOR_CHEIO             int64\n",
       " TAV_INSPETOR_VAZIO             int64\n",
       " TAV_LAVADORA                   int64\n",
       " TAV_PALETIZADORA               int64\n",
       " TAV_PASTEURIZADOR            float64\n",
       " TAV_ROTULADORA               float64\n",
       " TAV_SOPRADORA                float64\n",
       " TAV_TRANSPORTADORES            int64\n",
       "dtype: object"
      ]
     },
     "execution_count": 4,
     "metadata": {},
     "output_type": "execute_result"
    }
   ],
   "source": [
    "df.dtypes"
   ]
  },
  {
   "cell_type": "code",
   "execution_count": null,
   "metadata": {},
   "outputs": [],
   "source": []
  },
  {
   "cell_type": "code",
   "execution_count": 5,
   "metadata": {},
   "outputs": [],
   "source": [
    "X = df.drop(['OEE',' L1_TAV','L2_TAV','L3_TAV','L4_TAV','L5_TAV','L7_TAV'],axis=1)\n",
    "y = df['OEE']"
   ]
  },
  {
   "cell_type": "markdown",
   "metadata": {},
   "source": [
    "# Split data"
   ]
  },
  {
   "cell_type": "code",
   "execution_count": 6,
   "metadata": {},
   "outputs": [],
   "source": [
    "from sklearn.model_selection import train_test_split\n",
    "\n",
    "X_train, X_test, y_train, y_test = train_test_split(X, y, test_size=0.33, random_state=42, shuffle=True)\n",
    "X_train, X_val, y_train, y_val = train_test_split(X_train, y_train, test_size=0.33, random_state=42)"
   ]
  },
  {
   "cell_type": "code",
   "execution_count": 7,
   "metadata": {},
   "outputs": [
    {
     "name": "stderr",
     "output_type": "stream",
     "text": [
      "/usr/local/lib/python3.5/site-packages/sklearn/ensemble/weight_boosting.py:29: DeprecationWarning: numpy.core.umath_tests is an internal NumPy module and should not be imported. It will be removed in a future NumPy release.\n",
      "  from numpy.core.umath_tests import inner1d\n"
     ]
    }
   ],
   "source": [
    "from sklearn import linear_model\n",
    "from sklearn import ensemble\n",
    "\n",
    "# lr =  ensemble.RandomForestRegressor(n_estimators = 100, oob_score = True, n_jobs = -1,random_state =50,max_features = \"sqrt\", min_samples_leaf = 50)\n",
    "# lr = linear_model.LinearRegression()\n",
    "# lr = ensemble.GradientBoostingRegressor()\n",
    "lr = linear_model.TheilSenRegressor()"
   ]
  },
  {
   "cell_type": "code",
   "execution_count": 8,
   "metadata": {},
   "outputs": [],
   "source": [
    "model = lr.fit(X_train, y_train)"
   ]
  },
  {
   "cell_type": "code",
   "execution_count": 9,
   "metadata": {},
   "outputs": [
    {
     "name": "stdout",
     "output_type": "stream",
     "text": [
      "R^2 is: \n",
      " 0.9836189647129081\n"
     ]
    }
   ],
   "source": [
    "print (\"R^2 is: \\n\", model.score(X_test, y_test))"
   ]
  },
  {
   "cell_type": "code",
   "execution_count": 10,
   "metadata": {},
   "outputs": [],
   "source": [
    "predictions = model.predict(X_val)"
   ]
  },
  {
   "cell_type": "code",
   "execution_count": 11,
   "metadata": {},
   "outputs": [
    {
     "data": {
      "text/plain": [
       "Text(0.5, 1.0, 'Theil-Sen Estimator: multivariate regression model')"
      ]
     },
     "execution_count": 11,
     "metadata": {},
     "output_type": "execute_result"
    },
    {
     "data": {
      "image/png": "[encoded data removed]",
      "text/plain": [
       "<Figure size 432x288 with 1 Axes>"
      ]
     },
     "metadata": {},
     "output_type": "display_data"
    }
   ],
   "source": [
    "actual_values = y_val\n",
    "plt.scatter(predictions, actual_values, alpha=.75,\n",
    "            color='b') #alpha helps to show overlapping data\n",
    "plt.xlabel('Predicted OEE - validation')\n",
    "plt.ylabel('Actual OEE - validation')\n",
    "plt.title('Theil-Sen Estimator: multivariate regression model')"
   ]
  },
  {
   "cell_type": "code",
   "execution_count": 12,
   "metadata": {},
   "outputs": [
    {
     "name": "stdout",
     "output_type": "stream",
     "text": [
      "[ 2.29517513e-12  2.03407772e-09 -9.79788143e-01 -3.65886977e-05\n",
      " -2.13191970e-05 -4.09574397e-05 -9.94102866e-01 -8.87881748e-01\n",
      " -9.86215802e-01 -8.95674334e-01 -9.74466631e-01 -9.94660004e-01\n",
      " -1.00014525e+00 -1.02165604e+00 -9.95389307e-01 -1.99126865e-17\n",
      "  7.76669408e-17 -4.49711652e-18  3.87615159e-18 -9.92307024e-01\n",
      " -9.91633012e-01 -9.98211464e-01  0.00000000e+00  0.00000000e+00\n",
      "  0.00000000e+00  0.00000000e+00  0.00000000e+00 -9.69885137e-01\n",
      " -7.80603207e-01 -9.88703347e-01  0.00000000e+00]\n"
     ]
    }
   ],
   "source": [
    "print(model.coef_)"
   ]
  },
  {
   "cell_type": "code",
   "execution_count": 99,
   "metadata": {},
   "outputs": [
    {
     "name": "stdout",
     "output_type": "stream",
     "text": [
      "Index(['CONDIGO_PRODUTO', 'SOMA_GEA', 'TEMPO_DEGRADADO',\n",
      "       'TRABALHO_REAL_ELETRICISTA', 'TRABALHO_REAL_MECANICO',\n",
      "       'TRABALHO_REAL_PREVENTIVA', 'OUTROS_TEMPOS_PARAGEM', 'TEMPO_ARRANQUE',\n",
      "       ' TEMPO_EMBALAGEM_IMPROPRIA', 'TEMPO_TESTES', 'TEMPO_FALHA_LOGISTICA',\n",
      "       ' TEMPO_LIMPEZA', ' TMP_TAM', ' TEMPO_ALMOCO', 'L6_TAV',\n",
      "       'TAV_BANDEADORA', ' TAV_CINTADORA', ' TAV_DESENGRADORA',\n",
      "       ' TAV_DESPALETIZADORA', ' TAV_EMBALADORA', ' TAV_ENCARTONADORA',\n",
      "       'TAV_ENGRADADORA', ' TAV_ENVOLVEDORA', ' TAV_INSPETOR_CHEIO',\n",
      "       ' TAV_INSPETOR_VAZIO', ' TAV_LAVADORA', ' TAV_PALETIZADORA',\n",
      "       ' TAV_PASTEURIZADOR', ' TAV_ROTULADORA', ' TAV_SOPRADORA',\n",
      "       ' TAV_TRANSPORTADORES'],\n",
      "      dtype='object')\n"
     ]
    }
   ],
   "source": [
    "print(X.columns)"
   ]
  }
 ],
 "metadata": {
  "kernelspec": {
   "display_name": "Python 3",
   "language": "python",
   "name": "python3"
  },
  "language_info": {
   "codemirror_mode": {
    "name": "ipython",
    "version": 3
   },
   "file_extension": ".py",
   "mimetype": "text/x-python",
   "name": "python",
   "nbconvert_exporter": "python",
   "pygments_lexer": "ipython3",
   "version": "3.5.3"
  }
 },
 "nbformat": 4,
 "nbformat_minor": 2
}
